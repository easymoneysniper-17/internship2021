{
 "metadata": {
  "language_info": {
   "codemirror_mode": {
    "name": "ipython",
    "version": 3
   },
   "file_extension": ".py",
   "mimetype": "text/x-python",
   "name": "python",
   "nbconvert_exporter": "python",
   "pygments_lexer": "ipython3",
   "version": "3.8.5"
  },
  "orig_nbformat": 2,
  "kernelspec": {
   "name": "python385jvsc74a57bd04ebb67687316485464ad4bed3dd36d931e86067795b10827663d8fe21ec2caef",
   "display_name": "Python 3.8.5 64-bit ('Kaggle': conda)"
  }
 },
 "nbformat": 4,
 "nbformat_minor": 2,
 "cells": [
  {
   "cell_type": "code",
   "execution_count": 1,
   "metadata": {},
   "outputs": [],
   "source": [
    "import pandas as pd \n",
    "import numpy as np \n",
    "import pyarrow as pa \n",
    "import pyarrow.parquet as pq "
   ]
  },
  {
   "cell_type": "code",
   "execution_count": 6,
   "metadata": {},
   "outputs": [
    {
     "output_type": "stream",
     "name": "stdout",
     "text": [
      "0       2021\n1       2021\n2       2021\n3       2021\n4       2021\n        ... \n6726    2020\n6727    2020\n6728    2020\n6729    2020\n6730    2020\nName: year, Length: 6731, dtype: object\n"
     ]
    }
   ],
   "source": [
    "    t = pd.read_csv(\"爬取报告_20200106-20210105.csv\")\n",
    "    t[\"year\"]= t[\"时间\"].str[0:4]\n",
    "    print(t[\"year\"])"
   ]
  },
  {
   "cell_type": "code",
   "execution_count": null,
   "metadata": {},
   "outputs": [],
   "source": []
  }
 ]
}