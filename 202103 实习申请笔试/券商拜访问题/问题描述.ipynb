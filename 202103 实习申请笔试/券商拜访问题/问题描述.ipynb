{
 "cells": [
  {
   "cell_type": "code",
   "execution_count": null,
   "metadata": {},
   "outputs": [],
   "source": []
  },
  {
   "cell_type": "markdown",
   "metadata": {},
   "source": [
    "我们想通过调研券商研究员来了解一些上市公司的情况。热门的上市公司会有更多的券商和研究员cover，冷门的上市公司可能只有少数的券商和研究员cover。我们根据每家券商所cover的上市公司数量来判断它们综合实力的强弱，根据每个券商针对各个上市公司的研报数量来判断该券商对于各上市公司研究的深入程度。举例：下面数据表示东吴证券的综合实力（118家）没有中金（204家）强，但是东吴证券对于麦格米特这个公司的研究（22篇）比中金（16篇）更深入。\n",
    "\n",
    "理想情况下，针对每个上市公司，我们希望找到研究最深入的券商，于此同时该券商的综合实力也是在cover该上市公司的券商中最强大的。但是实际情况中，我们并不能得到这个完美的解。另外，从差旅的角度出发，券商分布在不同城市，广泛调研势必带来成本负担（如：某冷门上市公司只有一家小券商cover，我们可能就倾向放弃该上市公司）。因此，在兼顾研究深度和券商综合实力的同时，我们希望通过调研尽可能少的券商，而cover尽可能多的上市公司。\n",
    "\n",
    "通过建模给出一个满足上诉要求的调研方案，即：去拜访哪些券商，调研哪些上市公司。结果以excel形式输出，第一列为券商名，第二列为上市公司股票简称。\n",
    "\n",
    "该project限时1周，将结果发送到zhuja@jsfund.cn"
   ]
  },
  {
   "cell_type": "code",
   "execution_count": 3,
   "metadata": {},
   "outputs": [
    {
     "output_type": "error",
     "ename": "ModuleNotFoundError",
     "evalue": "No module named 'cplex'",
     "traceback": [
      "\u001b[1;31m---------------------------------------------------------------------------\u001b[0m",
      "\u001b[1;31mModuleNotFoundError\u001b[0m                       Traceback (most recent call last)",
      "\u001b[1;32m<ipython-input-3-f11c0481e4d3>\u001b[0m in \u001b[0;36m<module>\u001b[1;34m\u001b[0m\n\u001b[0;32m      1\u001b[0m \u001b[1;32mimport\u001b[0m \u001b[0mpandas\u001b[0m \u001b[1;32mas\u001b[0m \u001b[0mpd\u001b[0m\u001b[1;33m\u001b[0m\u001b[1;33m\u001b[0m\u001b[0m\n\u001b[0;32m      2\u001b[0m \u001b[1;32mimport\u001b[0m \u001b[0mnumpy\u001b[0m \u001b[1;32mas\u001b[0m \u001b[0mnp\u001b[0m\u001b[1;33m\u001b[0m\u001b[1;33m\u001b[0m\u001b[0m\n\u001b[1;32m----> 3\u001b[1;33m \u001b[1;32mimport\u001b[0m \u001b[0mcplex\u001b[0m\u001b[1;33m\u001b[0m\u001b[1;33m\u001b[0m\u001b[0m\n\u001b[0m",
      "\u001b[1;31mModuleNotFoundError\u001b[0m: No module named 'cplex'"
     ]
    }
   ],
   "source": [
    "import pandas as pd\n",
    "import numpy as np\n",
    "import cplex"
   ]
  },
  {
   "cell_type": "code",
   "execution_count": 21,
   "metadata": {},
   "outputs": [],
   "source": [
    "survey = pd.read_excel(\"调研库.xlsx\")"
   ]
  },
  {
   "cell_type": "code",
   "execution_count": 22,
   "metadata": {},
   "outputs": [],
   "source": [
    "x= survey.loc[survey[\"股票简称\"] == \"麦格米特\"]"
   ]
  },
  {
   "cell_type": "code",
   "execution_count": 66,
   "metadata": {},
   "outputs": [
    {
     "output_type": "stream",
     "name": "stdout",
     "text": [
      "[[24]\n [22]\n [17]\n [16]\n [13]\n [ 9]\n [ 6]\n [ 6]\n [ 5]\n [ 3]]\n"
     ]
    }
   ],
   "source": [
    "y = np.array(x[\"研报数量\"]).reshape(10,1)\n",
    "print(y)"
   ]
  },
  {
   "cell_type": "code",
   "execution_count": 73,
   "metadata": {},
   "outputs": [
    {
     "output_type": "stream",
     "name": "stdout",
     "text": [
      "[[ 24 169]\n [ 22 118]\n [ 17  75]\n [ 16 204]\n [ 13  62]\n [  9 194]\n [  6 135]\n [  6 126]\n [  5 203]\n [  3  72]]\n"
     ]
    }
   ],
   "source": [
    "y = np.array(x[\"研报数量\"]).reshape(10,1)\n",
    "z = np.array(x[\"券商cover股票数\"]).reshape(10,1)\n",
    "print(np.hstack((y,z)))"
   ]
  },
  {
   "cell_type": "code",
   "execution_count": null,
   "metadata": {},
   "outputs": [],
   "source": [
    "for x in corp:\n",
    "    corpx = survey.loc[survey[\"股票简称\"] == x]\n",
    "    sample = corpx[[2]]\n",
    "    print(sample)"
   ]
  }
 ],
 "metadata": {
  "kernelspec": {
   "display_name": "Python 3",
   "language": "python",
   "name": "python3"
  },
  "language_info": {
   "codemirror_mode": {
    "name": "ipython",
    "version": 3
   },
   "file_extension": ".py",
   "mimetype": "text/x-python",
   "name": "python",
   "nbconvert_exporter": "python",
   "pygments_lexer": "ipython3",
   "version": "3.8.3-final"
  }
 },
 "nbformat": 4,
 "nbformat_minor": 4
}