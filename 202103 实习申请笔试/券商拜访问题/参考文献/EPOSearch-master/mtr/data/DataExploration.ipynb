{
 "cells": [
  {
   "cell_type": "code",
   "execution_count": 1,
   "metadata": {},
   "outputs": [],
   "source": [
    "from scipy.io.arff import loadarff\n",
    "import pandas as pd\n",
    "import numpy as np\n",
    "from sklearn.model_selection import train_test_split\n",
    "import pickle as pkl"
   ]
  },
  {
   "cell_type": "code",
   "execution_count": 2,
   "metadata": {},
   "outputs": [
    {
     "data": {
      "text/html": [
       "<div>\n",
       "<style scoped>\n",
       "    .dataframe tbody tr th:only-of-type {\n",
       "        vertical-align: middle;\n",
       "    }\n",
       "\n",
       "    .dataframe tbody tr th {\n",
       "        vertical-align: top;\n",
       "    }\n",
       "\n",
       "    .dataframe thead th {\n",
       "        text-align: right;\n",
       "    }\n",
       "</style>\n",
       "<table border=\"1\" class=\"dataframe\">\n",
       "  <thead>\n",
       "    <tr style=\"text-align: right;\">\n",
       "      <th></th>\n",
       "      <th>CHSI2__0</th>\n",
       "      <th>NASI2__0</th>\n",
       "      <th>EADM7__0</th>\n",
       "      <th>SCLM7__0</th>\n",
       "      <th>CLKM7__0</th>\n",
       "      <th>VALI2__0</th>\n",
       "      <th>NAPM7__0</th>\n",
       "      <th>DLDI4__0</th>\n",
       "      <th>CHSI2__-6</th>\n",
       "      <th>NASI2__-6</th>\n",
       "      <th>...</th>\n",
       "      <th>NAPM7__-60</th>\n",
       "      <th>DLDI4__-60</th>\n",
       "      <th>CHSI2_48H__0</th>\n",
       "      <th>NASI2_48H__0</th>\n",
       "      <th>EADM7_48H__0</th>\n",
       "      <th>SCLM7_48H__0</th>\n",
       "      <th>CLKM7_48H__0</th>\n",
       "      <th>VALI2_48H__0</th>\n",
       "      <th>NAPM7_48H__0</th>\n",
       "      <th>DLDI4_48H__0</th>\n",
       "    </tr>\n",
       "  </thead>\n",
       "  <tbody>\n",
       "    <tr>\n",
       "      <th>0</th>\n",
       "      <td>288.0</td>\n",
       "      <td>3.41</td>\n",
       "      <td>276.0</td>\n",
       "      <td>194.0</td>\n",
       "      <td>63.8</td>\n",
       "      <td>8.78</td>\n",
       "      <td>166.0</td>\n",
       "      <td>59.5</td>\n",
       "      <td>NaN</td>\n",
       "      <td>NaN</td>\n",
       "      <td>...</td>\n",
       "      <td>NaN</td>\n",
       "      <td>NaN</td>\n",
       "      <td>269.0</td>\n",
       "      <td>3.33</td>\n",
       "      <td>257.0</td>\n",
       "      <td>186.0</td>\n",
       "      <td>61.2</td>\n",
       "      <td>8.07</td>\n",
       "      <td>157.0</td>\n",
       "      <td>55.1</td>\n",
       "    </tr>\n",
       "    <tr>\n",
       "      <th>1</th>\n",
       "      <td>287.0</td>\n",
       "      <td>3.40</td>\n",
       "      <td>275.0</td>\n",
       "      <td>194.0</td>\n",
       "      <td>64.1</td>\n",
       "      <td>8.81</td>\n",
       "      <td>165.0</td>\n",
       "      <td>59.4</td>\n",
       "      <td>NaN</td>\n",
       "      <td>NaN</td>\n",
       "      <td>...</td>\n",
       "      <td>NaN</td>\n",
       "      <td>NaN</td>\n",
       "      <td>269.0</td>\n",
       "      <td>3.32</td>\n",
       "      <td>257.0</td>\n",
       "      <td>185.0</td>\n",
       "      <td>61.1</td>\n",
       "      <td>8.04</td>\n",
       "      <td>157.0</td>\n",
       "      <td>55.2</td>\n",
       "    </tr>\n",
       "    <tr>\n",
       "      <th>2</th>\n",
       "      <td>288.0</td>\n",
       "      <td>3.39</td>\n",
       "      <td>274.0</td>\n",
       "      <td>193.0</td>\n",
       "      <td>63.4</td>\n",
       "      <td>8.88</td>\n",
       "      <td>165.0</td>\n",
       "      <td>59.4</td>\n",
       "      <td>NaN</td>\n",
       "      <td>NaN</td>\n",
       "      <td>...</td>\n",
       "      <td>NaN</td>\n",
       "      <td>NaN</td>\n",
       "      <td>268.0</td>\n",
       "      <td>3.32</td>\n",
       "      <td>257.0</td>\n",
       "      <td>186.0</td>\n",
       "      <td>61.3</td>\n",
       "      <td>8.14</td>\n",
       "      <td>156.0</td>\n",
       "      <td>55.2</td>\n",
       "    </tr>\n",
       "    <tr>\n",
       "      <th>3</th>\n",
       "      <td>287.0</td>\n",
       "      <td>3.39</td>\n",
       "      <td>273.0</td>\n",
       "      <td>193.0</td>\n",
       "      <td>64.0</td>\n",
       "      <td>8.70</td>\n",
       "      <td>164.0</td>\n",
       "      <td>57.9</td>\n",
       "      <td>NaN</td>\n",
       "      <td>NaN</td>\n",
       "      <td>...</td>\n",
       "      <td>NaN</td>\n",
       "      <td>NaN</td>\n",
       "      <td>268.0</td>\n",
       "      <td>3.33</td>\n",
       "      <td>257.0</td>\n",
       "      <td>185.0</td>\n",
       "      <td>61.2</td>\n",
       "      <td>8.21</td>\n",
       "      <td>156.0</td>\n",
       "      <td>55.9</td>\n",
       "    </tr>\n",
       "    <tr>\n",
       "      <th>4</th>\n",
       "      <td>287.0</td>\n",
       "      <td>3.34</td>\n",
       "      <td>273.0</td>\n",
       "      <td>193.0</td>\n",
       "      <td>64.0</td>\n",
       "      <td>8.78</td>\n",
       "      <td>165.0</td>\n",
       "      <td>57.9</td>\n",
       "      <td>NaN</td>\n",
       "      <td>NaN</td>\n",
       "      <td>...</td>\n",
       "      <td>NaN</td>\n",
       "      <td>NaN</td>\n",
       "      <td>266.0</td>\n",
       "      <td>3.31</td>\n",
       "      <td>257.0</td>\n",
       "      <td>185.0</td>\n",
       "      <td>61.4</td>\n",
       "      <td>8.04</td>\n",
       "      <td>156.0</td>\n",
       "      <td>55.9</td>\n",
       "    </tr>\n",
       "  </tbody>\n",
       "</table>\n",
       "<p>5 rows × 72 columns</p>\n",
       "</div>"
      ],
      "text/plain": [
       "   CHSI2__0  NASI2__0  EADM7__0  SCLM7__0  CLKM7__0  VALI2__0  NAPM7__0  \\\n",
       "0     288.0      3.41     276.0     194.0      63.8      8.78     166.0   \n",
       "1     287.0      3.40     275.0     194.0      64.1      8.81     165.0   \n",
       "2     288.0      3.39     274.0     193.0      63.4      8.88     165.0   \n",
       "3     287.0      3.39     273.0     193.0      64.0      8.70     164.0   \n",
       "4     287.0      3.34     273.0     193.0      64.0      8.78     165.0   \n",
       "\n",
       "   DLDI4__0  CHSI2__-6  NASI2__-6  ...  NAPM7__-60  DLDI4__-60  CHSI2_48H__0  \\\n",
       "0      59.5        NaN        NaN  ...         NaN         NaN         269.0   \n",
       "1      59.4        NaN        NaN  ...         NaN         NaN         269.0   \n",
       "2      59.4        NaN        NaN  ...         NaN         NaN         268.0   \n",
       "3      57.9        NaN        NaN  ...         NaN         NaN         268.0   \n",
       "4      57.9        NaN        NaN  ...         NaN         NaN         266.0   \n",
       "\n",
       "   NASI2_48H__0  EADM7_48H__0  SCLM7_48H__0  CLKM7_48H__0  VALI2_48H__0  \\\n",
       "0          3.33         257.0         186.0          61.2          8.07   \n",
       "1          3.32         257.0         185.0          61.1          8.04   \n",
       "2          3.32         257.0         186.0          61.3          8.14   \n",
       "3          3.33         257.0         185.0          61.2          8.21   \n",
       "4          3.31         257.0         185.0          61.4          8.04   \n",
       "\n",
       "   NAPM7_48H__0  DLDI4_48H__0  \n",
       "0         157.0          55.1  \n",
       "1         157.0          55.2  \n",
       "2         156.0          55.2  \n",
       "3         156.0          55.9  \n",
       "4         156.0          55.9  \n",
       "\n",
       "[5 rows x 72 columns]"
      ]
     },
     "execution_count": 2,
     "metadata": {},
     "output_type": "execute_result"
    }
   ],
   "source": [
    "raw_data = loadarff('rf1.arff')\n",
    "df = pd.DataFrame(raw_data[0])\n",
    "df.head()"
   ]
  },
  {
   "cell_type": "code",
   "execution_count": 3,
   "metadata": {},
   "outputs": [],
   "source": [
    "df = df.dropna()"
   ]
  },
  {
   "cell_type": "code",
   "execution_count": 4,
   "metadata": {},
   "outputs": [],
   "source": [
    "labels = df.columns[-8:]\n",
    "feats = df.columns[:-8]\n",
    "X, Y = df[feats], df[labels]"
   ]
  },
  {
   "cell_type": "code",
   "execution_count": 5,
   "metadata": {},
   "outputs": [],
   "source": [
    "X_train, X_test, Y_train, Y_test = train_test_split(X, Y, test_size=0.3, random_state=42) "
   ]
  },
  {
   "cell_type": "code",
   "execution_count": 7,
   "metadata": {},
   "outputs": [
    {
     "data": {
      "text/plain": [
       "((6303, 64), (2702, 64))"
      ]
     },
     "execution_count": 7,
     "metadata": {},
     "output_type": "execute_result"
    }
   ],
   "source": [
    "X_train.shape, X_test.shape"
   ]
  },
  {
   "cell_type": "code",
   "execution_count": 6,
   "metadata": {},
   "outputs": [],
   "source": [
    "trainX = X_train.to_numpy(dtype=np.float32)\n",
    "trainLabel = Y_train.to_numpy(dtype=np.float32)\n",
    "testX = X_test.to_numpy(dtype=np.float32)\n",
    "testLabel = Y_test.to_numpy(dtype=np.float32)"
   ]
  },
  {
   "cell_type": "code",
   "execution_count": 7,
   "metadata": {},
   "outputs": [],
   "source": [
    "pkl.dump((trainX, trainLabel, testX, testLabel), open('rf1.pkl', \"wb\"))"
   ]
  },
  {
   "cell_type": "code",
   "execution_count": 27,
   "metadata": {},
   "outputs": [],
   "source": [
    "pref = (np.random.rand(6, 4)-0.5)**2\n",
    "pref /= pref.sum(axis=1, keepdims=True)"
   ]
  },
  {
   "cell_type": "code",
   "execution_count": 28,
   "metadata": {},
   "outputs": [
    {
     "data": {
      "text/plain": [
       "array([[5.97305245e-02, 6.66555745e-01, 4.55224509e-02, 2.28191279e-01],\n",
       "       [3.10777963e-01, 5.84466354e-01, 5.86035507e-03, 9.88953281e-02],\n",
       "       [5.01405726e-01, 1.98147585e-01, 8.04034495e-02, 2.20043239e-01],\n",
       "       [5.52641366e-01, 2.17491935e-01, 1.66837579e-01, 6.30291206e-02],\n",
       "       [1.28660311e-01, 4.17209039e-03, 6.20847378e-01, 2.46320220e-01],\n",
       "       [1.47869625e-01, 7.78440172e-01, 1.21258751e-05, 7.36780773e-02]])"
      ]
     },
     "execution_count": 28,
     "metadata": {},
     "output_type": "execute_result"
    }
   ],
   "source": [
    "pref"
   ]
  },
  {
   "cell_type": "code",
   "execution_count": 29,
   "metadata": {},
   "outputs": [],
   "source": [
    "import matplotlib.pyplot as plt"
   ]
  },
  {
   "cell_type": "code",
   "execution_count": 32,
   "metadata": {
    "scrolled": false
   },
   "outputs": [
    {
     "data": {
      "text/plain": [
       "(array([2858., 2536., 2026., 1256.,  764.,  321.,  151.,   61.,   20.,\n",
       "           7.]),\n",
       " array([1.09935461e-05, 3.76729845e-01, 7.53448697e-01, 1.13016755e+00,\n",
       "        1.50688640e+00, 1.88360525e+00, 2.26032411e+00, 2.63704296e+00,\n",
       "        3.01376181e+00, 3.39048066e+00, 3.76719951e+00]),\n",
       " <a list of 10 Patch objects>)"
      ]
     },
     "execution_count": 32,
     "metadata": {},
     "output_type": "execute_result"
    },
    {
     "data": {
      "image/png": "[encoded data removed]",
      "text/plain": [
       "<Figure size 432x288 with 1 Axes>"
      ]
     },
     "metadata": {
      "needs_background": "light"
     },
     "output_type": "display_data"
    }
   ],
   "source": [
    "plt.hist(np.abs(np.random.randn(10000)))"
   ]
  },
  {
   "cell_type": "code",
   "execution_count": 36,
   "metadata": {},
   "outputs": [
    {
     "data": {
      "text/html": [
       "<div>\n",
       "<style scoped>\n",
       "    .dataframe tbody tr th:only-of-type {\n",
       "        vertical-align: middle;\n",
       "    }\n",
       "\n",
       "    .dataframe tbody tr th {\n",
       "        vertical-align: top;\n",
       "    }\n",
       "\n",
       "    .dataframe thead th {\n",
       "        text-align: right;\n",
       "    }\n",
       "</style>\n",
       "<table border=\"1\" class=\"dataframe\">\n",
       "  <thead>\n",
       "    <tr style=\"text-align: right;\">\n",
       "      <th></th>\n",
       "      <th>0</th>\n",
       "      <th>1</th>\n",
       "      <th>2</th>\n",
       "      <th>3</th>\n",
       "      <th>4</th>\n",
       "      <th>5</th>\n",
       "    </tr>\n",
       "  </thead>\n",
       "  <tbody>\n",
       "    <tr>\n",
       "      <th>0</th>\n",
       "      <td>0.765244</td>\n",
       "      <td>0.973717</td>\n",
       "      <td>0.982714</td>\n",
       "      <td>0.943675</td>\n",
       "      <td>0.809965</td>\n",
       "      <td>0.139237</td>\n",
       "    </tr>\n",
       "    <tr>\n",
       "      <th>1</th>\n",
       "      <td>0.935450</td>\n",
       "      <td>0.068568</td>\n",
       "      <td>0.744836</td>\n",
       "      <td>0.631150</td>\n",
       "      <td>0.307442</td>\n",
       "      <td>0.425777</td>\n",
       "    </tr>\n",
       "    <tr>\n",
       "      <th>2</th>\n",
       "      <td>0.539329</td>\n",
       "      <td>0.857137</td>\n",
       "      <td>0.705273</td>\n",
       "      <td>0.438185</td>\n",
       "      <td>0.691232</td>\n",
       "      <td>0.518987</td>\n",
       "    </tr>\n",
       "    <tr>\n",
       "      <th>3</th>\n",
       "      <td>0.038729</td>\n",
       "      <td>0.647180</td>\n",
       "      <td>0.544887</td>\n",
       "      <td>0.787495</td>\n",
       "      <td>0.351601</td>\n",
       "      <td>0.858775</td>\n",
       "    </tr>\n",
       "    <tr>\n",
       "      <th>4</th>\n",
       "      <td>0.615912</td>\n",
       "      <td>0.025574</td>\n",
       "      <td>0.858211</td>\n",
       "      <td>0.893673</td>\n",
       "      <td>0.597804</td>\n",
       "      <td>0.809771</td>\n",
       "    </tr>\n",
       "  </tbody>\n",
       "</table>\n",
       "</div>"
      ],
      "text/plain": [
       "          0         1         2         3         4         5\n",
       "0  0.765244  0.973717  0.982714  0.943675  0.809965  0.139237\n",
       "1  0.935450  0.068568  0.744836  0.631150  0.307442  0.425777\n",
       "2  0.539329  0.857137  0.705273  0.438185  0.691232  0.518987\n",
       "3  0.038729  0.647180  0.544887  0.787495  0.351601  0.858775\n",
       "4  0.615912  0.025574  0.858211  0.893673  0.597804  0.809771"
      ]
     },
     "execution_count": 36,
     "metadata": {},
     "output_type": "execute_result"
    }
   ],
   "source": [
    "df = pd.DataFrame(np.random.rand(5,6))\n",
    "df"
   ]
  },
  {
   "cell_type": "code",
   "execution_count": 45,
   "metadata": {
    "scrolled": true
   },
   "outputs": [
    {
     "data": {
      "text/html": [
       "<div>\n",
       "<style scoped>\n",
       "    .dataframe tbody tr th:only-of-type {\n",
       "        vertical-align: middle;\n",
       "    }\n",
       "\n",
       "    .dataframe tbody tr th {\n",
       "        vertical-align: top;\n",
       "    }\n",
       "\n",
       "    .dataframe thead th {\n",
       "        text-align: right;\n",
       "    }\n",
       "</style>\n",
       "<table border=\"1\" class=\"dataframe\">\n",
       "  <thead>\n",
       "    <tr style=\"text-align: right;\">\n",
       "      <th></th>\n",
       "      <th>0</th>\n",
       "      <th>1</th>\n",
       "      <th>2</th>\n",
       "      <th>3</th>\n",
       "      <th>4</th>\n",
       "      <th>5</th>\n",
       "    </tr>\n",
       "  </thead>\n",
       "  <tbody>\n",
       "    <tr>\n",
       "      <th>0.05</th>\n",
       "      <td>0.138849</td>\n",
       "      <td>0.034173</td>\n",
       "      <td>0.576964</td>\n",
       "      <td>0.476778</td>\n",
       "      <td>0.316274</td>\n",
       "      <td>0.196545</td>\n",
       "    </tr>\n",
       "    <tr>\n",
       "      <th>0.95</th>\n",
       "      <td>0.901409</td>\n",
       "      <td>0.950401</td>\n",
       "      <td>0.957813</td>\n",
       "      <td>0.933675</td>\n",
       "      <td>0.786219</td>\n",
       "      <td>0.848974</td>\n",
       "    </tr>\n",
       "  </tbody>\n",
       "</table>\n",
       "</div>"
      ],
      "text/plain": [
       "             0         1         2         3         4         5\n",
       "0.05  0.138849  0.034173  0.576964  0.476778  0.316274  0.196545\n",
       "0.95  0.901409  0.950401  0.957813  0.933675  0.786219  0.848974"
      ]
     },
     "execution_count": 45,
     "metadata": {},
     "output_type": "execute_result"
    }
   ],
   "source": [
    "low = .05\n",
    "high = .95\n",
    "df.quantile([low, high])"
   ]
  },
  {
   "cell_type": "code",
   "execution_count": null,
   "metadata": {},
   "outputs": [],
   "source": []
  }
 ],
 "metadata": {
  "@webio": {
   "lastCommId": null,
   "lastKernelId": null
  },
  "kernelspec": {
   "display_name": "Python 3",
   "language": "python",
   "name": "python3"
  },
  "language_info": {
   "codemirror_mode": {
    "name": "ipython",
    "version": 3
   },
   "file_extension": ".py",
   "mimetype": "text/x-python",
   "name": "python",
   "nbconvert_exporter": "python",
   "pygments_lexer": "ipython3",
   "version": "3.7.3"
  }
 },
 "nbformat": 4,
 "nbformat_minor": 2
}
